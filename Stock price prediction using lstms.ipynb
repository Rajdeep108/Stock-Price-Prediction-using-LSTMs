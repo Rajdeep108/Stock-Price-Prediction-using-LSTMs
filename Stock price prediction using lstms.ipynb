{
 "cells": [
  {
   "cell_type": "code",
   "execution_count": 1,
   "id": "20290e75-4d1c-488f-9dad-b54fa18b6244",
   "metadata": {},
   "outputs": [],
   "source": [
    "import pandas as pd\n",
    "import numpy as np\n",
    "import  matplotlib.pyplot as plt\n",
    "\n",
    "import torch\n",
    "import torch.nn as nn\n",
    "import torch.optim as optim\n",
    "import sklearn\n",
    "from sklearn.model_selection import train_test_split\n",
    "from sklearn.preprocessing import MinMaxScaler"
   ]
  },
  {
   "cell_type": "code",
   "execution_count": 2,
   "id": "ffede4da-e546-4b9b-bce0-36fec6da0df0",
   "metadata": {},
   "outputs": [],
   "source": [
    "data = pd.read_csv(r\"C:\\Users\\asus\\Desktop\\pro1\\6th project\\AAPL_daily_update.csv\")"
   ]
  },
  {
   "cell_type": "code",
   "execution_count": 3,
   "id": "19d8694a-7a05-45c0-a289-d82b97f4c1b5",
   "metadata": {},
   "outputs": [
    {
     "data": {
      "text/html": [
       "<div>\n",
       "<style scoped>\n",
       "    .dataframe tbody tr th:only-of-type {\n",
       "        vertical-align: middle;\n",
       "    }\n",
       "\n",
       "    .dataframe tbody tr th {\n",
       "        vertical-align: top;\n",
       "    }\n",
       "\n",
       "    .dataframe thead th {\n",
       "        text-align: right;\n",
       "    }\n",
       "</style>\n",
       "<table border=\"1\" class=\"dataframe\">\n",
       "  <thead>\n",
       "    <tr style=\"text-align: right;\">\n",
       "      <th></th>\n",
       "      <th>Date</th>\n",
       "      <th>Open</th>\n",
       "      <th>High</th>\n",
       "      <th>Low</th>\n",
       "      <th>Close</th>\n",
       "      <th>Adj Close</th>\n",
       "      <th>Volume</th>\n",
       "    </tr>\n",
       "  </thead>\n",
       "  <tbody>\n",
       "    <tr>\n",
       "      <th>0</th>\n",
       "      <td>2019-09-10</td>\n",
       "      <td>53.465000</td>\n",
       "      <td>54.195000</td>\n",
       "      <td>52.927502</td>\n",
       "      <td>54.174999</td>\n",
       "      <td>53.642761</td>\n",
       "      <td>127111600</td>\n",
       "    </tr>\n",
       "    <tr>\n",
       "      <th>1</th>\n",
       "      <td>2019-09-11</td>\n",
       "      <td>54.517502</td>\n",
       "      <td>55.927502</td>\n",
       "      <td>54.432499</td>\n",
       "      <td>55.897499</td>\n",
       "      <td>55.348343</td>\n",
       "      <td>177158400</td>\n",
       "    </tr>\n",
       "    <tr>\n",
       "      <th>2</th>\n",
       "      <td>2019-09-12</td>\n",
       "      <td>56.200001</td>\n",
       "      <td>56.605000</td>\n",
       "      <td>55.715000</td>\n",
       "      <td>55.772499</td>\n",
       "      <td>55.224567</td>\n",
       "      <td>128906800</td>\n",
       "    </tr>\n",
       "    <tr>\n",
       "      <th>3</th>\n",
       "      <td>2019-09-13</td>\n",
       "      <td>55.000000</td>\n",
       "      <td>55.197498</td>\n",
       "      <td>54.255001</td>\n",
       "      <td>54.687500</td>\n",
       "      <td>54.150230</td>\n",
       "      <td>159053200</td>\n",
       "    </tr>\n",
       "    <tr>\n",
       "      <th>4</th>\n",
       "      <td>2019-09-16</td>\n",
       "      <td>54.432499</td>\n",
       "      <td>55.032501</td>\n",
       "      <td>54.389999</td>\n",
       "      <td>54.974998</td>\n",
       "      <td>54.434902</td>\n",
       "      <td>84632400</td>\n",
       "    </tr>\n",
       "  </tbody>\n",
       "</table>\n",
       "</div>"
      ],
      "text/plain": [
       "         Date       Open       High        Low      Close  Adj Close  \\\n",
       "0  2019-09-10  53.465000  54.195000  52.927502  54.174999  53.642761   \n",
       "1  2019-09-11  54.517502  55.927502  54.432499  55.897499  55.348343   \n",
       "2  2019-09-12  56.200001  56.605000  55.715000  55.772499  55.224567   \n",
       "3  2019-09-13  55.000000  55.197498  54.255001  54.687500  54.150230   \n",
       "4  2019-09-16  54.432499  55.032501  54.389999  54.974998  54.434902   \n",
       "\n",
       "      Volume  \n",
       "0  127111600  \n",
       "1  177158400  \n",
       "2  128906800  \n",
       "3  159053200  \n",
       "4   84632400  "
      ]
     },
     "execution_count": 3,
     "metadata": {},
     "output_type": "execute_result"
    }
   ],
   "source": [
    "data.head() "
   ]
  },
  {
   "cell_type": "code",
   "execution_count": 4,
   "id": "b05ef426-ef13-4475-964b-d751efca55be",
   "metadata": {},
   "outputs": [
    {
     "data": {
      "text/plain": [
       "(254, 7)"
      ]
     },
     "execution_count": 4,
     "metadata": {},
     "output_type": "execute_result"
    }
   ],
   "source": [
    "data.shape"
   ]
  },
  {
   "cell_type": "code",
   "execution_count": 5,
   "id": "b72ee334-66d6-42b2-8596-eebc0c4808df",
   "metadata": {},
   "outputs": [
    {
     "data": {
      "image/png": "[encoded data removed]",
      "text/plain": [
       "<Figure size 300x300 with 2 Axes>"
      ]
     },
     "metadata": {},
     "output_type": "display_data"
    }
   ],
   "source": [
    "plt.figure(figsize=(3,3))\n",
    "scatter = plt.scatter(data.Low[:25],data.High[:25],marker='x',c =data.Low[:25], cmap='viridis')\n",
    "plt.colorbar(scatter)\n",
    "plt.tight_layout()"
   ]
  },
  {
   "cell_type": "code",
   "execution_count": 6,
   "id": "1aa3ea86-e3c7-469b-92a5-e0f1043d0822",
   "metadata": {},
   "outputs": [],
   "source": [
    "df = data.Close"
   ]
  },
  {
   "cell_type": "code",
   "execution_count": 7,
   "id": "5a879897-077a-4cb1-b6a0-dc57ec3174dc",
   "metadata": {},
   "outputs": [
    {
     "data": {
      "text/plain": [
       "0       54.174999\n",
       "1       55.897499\n",
       "2       55.772499\n",
       "3       54.687500\n",
       "4       54.974998\n",
       "          ...    \n",
       "249    120.879997\n",
       "250    120.959999\n",
       "251    112.820000\n",
       "252    117.320000\n",
       "253    114.274597\n",
       "Name: Close, Length: 254, dtype: float64"
      ]
     },
     "execution_count": 7,
     "metadata": {},
     "output_type": "execute_result"
    }
   ],
   "source": [
    "df"
   ]
  },
  {
   "cell_type": "code",
   "execution_count": 8,
   "id": "ab49a6c1-6d7e-49cc-a4fe-f451a95ceb9c",
   "metadata": {},
   "outputs": [],
   "source": [
    "x_data =[]\n",
    "y_data = []\n",
    "timestep = 9\n",
    "\n",
    "for i in range(0,len(df)-timestep):\n",
    "    [x_data.append(df[i:i+timestep].values)]\n",
    "    [y_data.append(df[i+timestep])]\n",
    "    "
   ]
  },
  {
   "cell_type": "code",
   "execution_count": 9,
   "id": "932be62c-a88b-431b-8fe7-4ef3c2638350",
   "metadata": {},
   "outputs": [],
   "source": [
    "x_data = np.array(x_data)\n",
    "y_data = np.array(y_data)"
   ]
  },
  {
   "cell_type": "code",
   "execution_count": 10,
   "id": "65704ac7-bc3e-4a4d-af14-8c9a4f01e9f1",
   "metadata": {},
   "outputs": [
    {
     "data": {
      "text/plain": [
       "((245, 9), (245,))"
      ]
     },
     "execution_count": 10,
     "metadata": {},
     "output_type": "execute_result"
    }
   ],
   "source": [
    "x_data.shape, y_data.shape"
   ]
  },
  {
   "cell_type": "code",
   "execution_count": 11,
   "id": "95724acf-e02f-46c8-90ce-5c0b1c4ceca2",
   "metadata": {},
   "outputs": [],
   "source": [
    "x_train,x_test,y_train,y_test = train_test_split(x_data,y_data,test_size = 0.3)"
   ]
  },
  {
   "cell_type": "code",
   "execution_count": 12,
   "id": "124f0a9c-8fa2-4efd-8ef6-002e4390d903",
   "metadata": {},
   "outputs": [
    {
     "data": {
      "text/plain": [
       "((171, 9), (74, 9))"
      ]
     },
     "execution_count": 12,
     "metadata": {},
     "output_type": "execute_result"
    }
   ],
   "source": [
    "x_train.shape,  x_test.shape"
   ]
  },
  {
   "cell_type": "code",
   "execution_count": 13,
   "id": "d8a6c1f9-3a60-4c21-ba15-8f9a6b4cfe1e",
   "metadata": {},
   "outputs": [
    {
     "data": {
      "text/plain": [
       "((171,), (74,))"
      ]
     },
     "execution_count": 13,
     "metadata": {},
     "output_type": "execute_result"
    }
   ],
   "source": [
    "y_train.shape, y_test.shape"
   ]
  },
  {
   "cell_type": "code",
   "execution_count": 14,
   "id": "d8a532d6-9913-47cf-85b8-6e9c4f213623",
   "metadata": {},
   "outputs": [],
   "source": [
    "normalisex = MinMaxScaler()\n",
    "normalisey = MinMaxScaler()\n",
    "\n",
    "x_train_norm = normalisex.fit_transform(x_train)\n",
    "x_test_norm = normalisex.transform(x_test)\n",
    "\n",
    "y_train_norm = normalisey.fit_transform(y_train.reshape(-1,1))\n",
    "y_test_norm = normalisey.transform(y_test.reshape(-1,1))\n",
    "\n",
    "x_train_tens = torch.tensor(x_train_norm,dtype=torch.float32)\n",
    "x_test_tens = torch.tensor(x_test_norm,dtype=torch.float32)\n",
    "x_train_tens = x_train_tens.reshape(x_train_tens.shape[0],1,x_train_tens.shape[1])\n",
    "x_test_tens = x_test_tens.reshape(x_test_tens.shape[0],1,x_test_tens.shape[1])\n",
    "\n",
    "\n",
    "y_train_tens = torch.tensor(y_train_norm, dtype=torch.float32).reshape(171, 1, 1)\n",
    "y_test_tens = torch.tensor(y_test_norm, dtype=torch.float32).reshape(-1, 1, 1)"
   ]
  },
  {
   "cell_type": "code",
   "execution_count": 15,
   "id": "d6399cfa-8b28-4fd5-85bb-5475414ce9b4",
   "metadata": {},
   "outputs": [
    {
     "data": {
      "text/plain": [
       "(array([[73.412498, 75.087502, 74.357498, 74.949997, 74.597504, 75.797501,\n",
       "         77.407501, 77.582497, 79.239998],\n",
       "        [73.290001, 74.389999, 75.157501, 75.934998, 77.532501, 78.752502,\n",
       "         77.852501, 76.912498, 77.385002]]),\n",
       " array([[0.26340973, 0.2865169 , 0.2671871 , 0.2573972 , 0.25286067,\n",
       "         0.26790813, 0.28820843, 0.29040246, 0.31118357],\n",
       "        [0.2617108 , 0.27684145, 0.27790813, 0.26974676, 0.2896643 ,\n",
       "         0.3049626 , 0.29378767, 0.28200227, 0.28792635]]),\n",
       " torch.Size([171, 1, 9]),\n",
       " torch.Size([171, 1, 1]))"
      ]
     },
     "execution_count": 15,
     "metadata": {},
     "output_type": "execute_result"
    }
   ],
   "source": [
    "x_train[:2],x_train_norm[:2],x_train_tens.shape, y_train_tens.shape"
   ]
  },
  {
   "cell_type": "code",
   "execution_count": 16,
   "id": "5b9d6880-ea37-4268-a47f-5430c468f0f1",
   "metadata": {},
   "outputs": [],
   "source": [
    "class LSTM(nn.Module):\n",
    "    def __init__(self):\n",
    "        super().__init__()\n",
    "        self.lay1 = nn.LSTM(input_size=9,hidden_size=2)\n",
    "        self.lay2 = nn.LSTM(2,4)\n",
    "        self.lay3 = nn.LSTM(4,1)\n",
    "        #self.lay4 = nn.Linear(2,1)\n",
    "    def forward(self, inputs):\n",
    "        out,_ = self.lay1(inputs)\n",
    "        out,_ = self.lay2(out)\n",
    "        out,_ = self.lay3(out)\n",
    "        #out = self.lay4(out[:,-1,:])\n",
    "        return out\n",
    "        \n",
    "model = LSTM()\n",
    "loss = nn.MSELoss()\n",
    "optimiser = optim.Adam(model.parameters(),lr = 0.001)\n",
    "\n",
    "for i in range(1000):\n",
    "    model.train()\n",
    "    optimiser.zero_grad()\n",
    "    outputs = model.forward(x_train_tens)\n",
    "    lozz = loss(outputs,y_train_tens)\n",
    "    lozz.backward()\n",
    "    optimiser.step()\n",
    "    "
   ]
  },
  {
   "cell_type": "code",
   "execution_count": 17,
   "id": "94cbae9f-18c5-4bd0-9e49-83cbb6f174ce",
   "metadata": {},
   "outputs": [],
   "source": [
    "model.eval()\n",
    "with torch.no_grad():\n",
    "    pred = model(x_test_tens)"
   ]
  },
  {
   "cell_type": "code",
   "execution_count": 18,
   "id": "e47ae404-295f-4518-985b-ca432c87a690",
   "metadata": {},
   "outputs": [],
   "source": [
    "outp = outputs.detach().numpy().reshape(-1,1)\n",
    "pred = pred.detach().numpy().reshape(-1,1).astype('float64')"
   ]
  },
  {
   "cell_type": "code",
   "execution_count": 19,
   "id": "5e951c25-d946-4cce-af25-34bdc01a9872",
   "metadata": {},
   "outputs": [],
   "source": [
    "from sklearn.metrics import mean_absolute_error"
   ]
  },
  {
   "cell_type": "code",
   "execution_count": 20,
   "id": "5c5bada1-014f-4641-b6de-dbb617a6f439",
   "metadata": {},
   "outputs": [],
   "source": [
    "re = normalisey.inverse_transform(pred)"
   ]
  },
  {
   "cell_type": "code",
   "execution_count": 21,
   "id": "7ee4e055-9063-4510-8a21-d1396c7d46fa",
   "metadata": {},
   "outputs": [
    {
     "data": {
      "text/plain": [
       "array([[52.84745171],\n",
       "       [61.10529718],\n",
       "       [67.49598331],\n",
       "       [71.75186613],\n",
       "       [74.39589708]])"
      ]
     },
     "execution_count": 21,
     "metadata": {},
     "output_type": "execute_result"
    }
   ],
   "source": [
    "re[:5]"
   ]
  },
  {
   "cell_type": "code",
   "execution_count": 22,
   "id": "52035efe-8b90-4a49-9ab5-34089f949a08",
   "metadata": {},
   "outputs": [],
   "source": [
    "score = mean_absolute_error(y_test,re)\n",
    "train_score = score = mean_absolute_error(y_train,outp)"
   ]
  },
  {
   "cell_type": "code",
   "execution_count": 23,
   "id": "d81566da-8aec-4a66-ab02-87d10e303dd7",
   "metadata": {},
   "outputs": [
    {
     "data": {
      "text/plain": [
       "(78.9634178150307, 78.9634178150307)"
      ]
     },
     "execution_count": 23,
     "metadata": {},
     "output_type": "execute_result"
    }
   ],
   "source": [
    "score, train_score"
   ]
  }
 ],
 "metadata": {
  "kernelspec": {
   "display_name": "Python 3 (ipykernel)",
   "language": "python",
   "name": "python3"
  },
  "language_info": {
   "codemirror_mode": {
    "name": "ipython",
    "version": 3
   },
   "file_extension": ".py",
   "mimetype": "text/x-python",
   "name": "python",
   "nbconvert_exporter": "python",
   "pygments_lexer": "ipython3",
   "version": "3.12.3"
  }
 },
 "nbformat": 4,
 "nbformat_minor": 5
}
